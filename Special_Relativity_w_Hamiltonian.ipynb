{
  "nbformat": 4,
  "nbformat_minor": 0,
  "metadata": {
    "colab": {
      "provenance": [],
      "collapsed_sections": [
        "y7mh-wdquxR2",
        "OvCwbBtGu82-",
        "VIHG0YY_vDu9",
        "x4gNw3M-vS9s"
      ],
      "toc_visible": true,
      "authorship_tag": "ABX9TyP5Jjny1bDEW8reYVfbzJMu",
      "include_colab_link": true
    },
    "kernelspec": {
      "name": "python3",
      "display_name": "Python 3"
    },
    "language_info": {
      "name": "python"
    }
  },
  "cells": [
    {
      "cell_type": "markdown",
      "metadata": {
        "id": "view-in-github",
        "colab_type": "text"
      },
      "source": [
        "<a href=\"https://colab.research.google.com/github/Fisissist/Special-Relativity-Energy-Derivation-Using-the-Hamiltonian-with-SymPy-in-Python/blob/main/Special_Relativity_w_Hamiltonian.ipynb\" target=\"_parent\"><img src=\"https://colab.research.google.com/assets/colab-badge.svg\" alt=\"Open In Colab\"/></a>"
      ]
    },
    {
      "cell_type": "markdown",
      "source": [
        "# Setting Up"
      ],
      "metadata": {
        "id": "dLYuzlXWugnJ"
      }
    },
    {
      "cell_type": "markdown",
      "source": [
        "## Importing SymPy"
      ],
      "metadata": {
        "id": "y7mh-wdquxR2"
      }
    },
    {
      "cell_type": "markdown",
      "source": [
        "I initiall called all functions from SymPy as I did not know which functions I would need for this derivation. Functions used from sympy were: Function, subs, sqrt, symbols, diff, Eq, simplify, and display. I decided to leave the code as is since there is no need to specify for this code to work."
      ],
      "metadata": {
        "id": "dANGiLjvROeK"
      }
    },
    {
      "cell_type": "code",
      "source": [
        "from sympy import *"
      ],
      "metadata": {
        "id": "mytzLGiybzAp"
      },
      "execution_count": null,
      "outputs": []
    },
    {
      "cell_type": "markdown",
      "source": [
        "## Defining variables and functions"
      ],
      "metadata": {
        "id": "OvCwbBtGu82-"
      }
    },
    {
      "cell_type": "code",
      "execution_count": null,
      "metadata": {
        "id": "DUwNX9-EIygh"
      },
      "outputs": [],
      "source": [
        "m,c,t = symbols('m c t', real=True)\n",
        "x,y,z = symbols('x y z', cls=Function)\n",
        "vx,vy,vz = symbols('vx vy vz', cls=Function)\n",
        "ax,ay,az = symbols('ax ay az', cls=Function)\n",
        "v, a = symbols('v a', real=True, cls=Function)\n",
        "px, py, pz = symbols('px py pz', real=True, cls=Function)"
      ]
    },
    {
      "cell_type": "markdown",
      "source": [
        "###Velocity"
      ],
      "metadata": {
        "id": "AM9BYgkd9GTD"
      }
    },
    {
      "cell_type": "code",
      "source": [
        "xdot = x(t).diff(t)\n",
        "ydot = y(t).diff(t)\n",
        "zdot = z(t).diff(t)\n",
        "\n",
        "rdot = sqrt(xdot**2 + ydot**2 + zdot**2)\n",
        "display(Eq(rdot,v(t)**2))\n",
        "\n",
        "Eq(rdot.subs(xdot,vx(t)).subs(ydot,vy(t)).subs(zdot,vz(t)),v(t)**2)\n"
      ],
      "metadata": {
        "colab": {
          "base_uri": "https://localhost:8080/",
          "height": 153
        },
        "id": "HdnMgLohs9px",
        "outputId": "ca297ea6-137b-4b00-931d-8b15b040c774"
      },
      "execution_count": null,
      "outputs": [
        {
          "output_type": "display_data",
          "data": {
            "text/plain": [
              "Eq(sqrt(Derivative(x(t), t)**2 + Derivative(y(t), t)**2 + Derivative(z(t), t)**2), v(t)**2)"
            ],
            "text/latex": "$\\displaystyle \\sqrt{\\left(\\frac{d}{d t} x{\\left(t \\right)}\\right)^{2} + \\left(\\frac{d}{d t} y{\\left(t \\right)}\\right)^{2} + \\left(\\frac{d}{d t} z{\\left(t \\right)}\\right)^{2}} = v^{2}{\\left(t \\right)}$"
          },
          "metadata": {}
        },
        {
          "output_type": "execute_result",
          "data": {
            "text/plain": [
              "Eq(sqrt(vx(t)**2 + vy(t)**2 + vz(t)**2), v(t)**2)"
            ],
            "text/latex": "$\\displaystyle \\sqrt{\\operatorname{vx}^{2}{\\left(t \\right)} + \\operatorname{vy}^{2}{\\left(t \\right)} + \\operatorname{vz}^{2}{\\left(t \\right)}} = v^{2}{\\left(t \\right)}$"
          },
          "metadata": {},
          "execution_count": 149
        }
      ]
    },
    {
      "cell_type": "markdown",
      "source": [
        "###Acceleration"
      ],
      "metadata": {
        "id": "OJa9_6s-9Iw5"
      }
    },
    {
      "cell_type": "code",
      "source": [
        "xdotdot = xdot.diff(t)\n",
        "ydotdot = ydot.diff(t)\n",
        "zdotdot = zdot.diff(t)\n",
        "\n",
        "rddot = sqrt(xdotdot**2 + ydotdot**2 + zdotdot**2)\n",
        "display(Eq(rddot,a(t)**2))\n",
        "\n",
        "Eq(rddot.subs(xdotdot,ax(t)).subs(ydotdot,ay(t)).subs(zdotdot,az(t)), a(t)**2)"
      ],
      "metadata": {
        "colab": {
          "base_uri": "https://localhost:8080/",
          "height": 153
        },
        "id": "sct7JbLstP4R",
        "outputId": "4c7b94a5-5f6d-47fe-d040-9597d51f83a8"
      },
      "execution_count": null,
      "outputs": [
        {
          "output_type": "display_data",
          "data": {
            "text/plain": [
              "Eq(sqrt(Derivative(x(t), (t, 2))**2 + Derivative(y(t), (t, 2))**2 + Derivative(z(t), (t, 2))**2), a(t)**2)"
            ],
            "text/latex": "$\\displaystyle \\sqrt{\\left(\\frac{d^{2}}{d t^{2}} x{\\left(t \\right)}\\right)^{2} + \\left(\\frac{d^{2}}{d t^{2}} y{\\left(t \\right)}\\right)^{2} + \\left(\\frac{d^{2}}{d t^{2}} z{\\left(t \\right)}\\right)^{2}} = a^{2}{\\left(t \\right)}$"
          },
          "metadata": {}
        },
        {
          "output_type": "execute_result",
          "data": {
            "text/plain": [
              "Eq(sqrt(ax(t)**2 + ay(t)**2 + az(t)**2), a(t)**2)"
            ],
            "text/latex": "$\\displaystyle \\sqrt{\\operatorname{ax}^{2}{\\left(t \\right)} + \\operatorname{ay}^{2}{\\left(t \\right)} + \\operatorname{az}^{2}{\\left(t \\right)}} = a^{2}{\\left(t \\right)}$"
          },
          "metadata": {},
          "execution_count": 150
        }
      ]
    },
    {
      "cell_type": "markdown",
      "source": [
        "##The Lagrangian"
      ],
      "metadata": {
        "id": "VIHG0YY_vDu9"
      }
    },
    {
      "cell_type": "code",
      "source": [
        "ds = sqrt(c**2 - rdot**2)\n",
        "\n",
        "L = Function('L')(x(t),y(t),z(t),xdot,ydot,zdot,t)\n",
        "L = (-m*c)*(ds) #Special Relativiy Lagrangian\n",
        "\n",
        "display(L)"
      ],
      "metadata": {
        "colab": {
          "base_uri": "https://localhost:8080/",
          "height": 69
        },
        "id": "t5J0gMvWtVH1",
        "outputId": "8d8a21f4-a913-4c2d-908f-4ce9bd227bc1"
      },
      "execution_count": null,
      "outputs": [
        {
          "output_type": "display_data",
          "data": {
            "text/plain": [
              "-c*m*sqrt(c**2 - Derivative(x(t), t)**2 - Derivative(y(t), t)**2 - Derivative(z(t), t)**2)"
            ],
            "text/latex": "$\\displaystyle - c m \\sqrt{c^{2} - \\left(\\frac{d}{d t} x{\\left(t \\right)}\\right)^{2} - \\left(\\frac{d}{d t} y{\\left(t \\right)}\\right)^{2} - \\left(\\frac{d}{d t} z{\\left(t \\right)}\\right)^{2}}$"
          },
          "metadata": {}
        }
      ]
    },
    {
      "cell_type": "markdown",
      "source": [
        "### Substituing for Velocity"
      ],
      "metadata": {
        "id": "NWT7872zvH_l"
      }
    },
    {
      "cell_type": "code",
      "source": [
        "l = L.subs(xdot,vx(t)).subs(ydot,vy(t)).subs(zdot,vz(t))\n",
        "display(l)"
      ],
      "metadata": {
        "colab": {
          "base_uri": "https://localhost:8080/",
          "height": 39
        },
        "id": "e8yyBKYhLEWg",
        "outputId": "1f5d8982-ffaf-4aa5-afbc-cfda8b487e70"
      },
      "execution_count": null,
      "outputs": [
        {
          "output_type": "display_data",
          "data": {
            "text/plain": [
              "-c*m*sqrt(c**2 - vx(t)**2 - vy(t)**2 - vz(t)**2)"
            ],
            "text/latex": "$\\displaystyle - c m \\sqrt{c^{2} - \\operatorname{vx}^{2}{\\left(t \\right)} - \\operatorname{vy}^{2}{\\left(t \\right)} - \\operatorname{vz}^{2}{\\left(t \\right)}}$"
          },
          "metadata": {}
        }
      ]
    },
    {
      "cell_type": "markdown",
      "source": [
        "# Euler-Lagrangian"
      ],
      "metadata": {
        "id": "x4gNw3M-vS9s"
      }
    },
    {
      "cell_type": "markdown",
      "source": [
        "## Postions Partial"
      ],
      "metadata": {
        "id": "vmxCSssuv2XT"
      }
    },
    {
      "cell_type": "code",
      "source": [
        "dLx = diff(L,x(t))\n",
        "dLy = diff(L,y(t))\n",
        "dLz = diff(L,z(t))\n",
        "dL = dLx + dLy + dLz\n",
        "\n",
        "display(dL)"
      ],
      "metadata": {
        "colab": {
          "base_uri": "https://localhost:8080/",
          "height": 38
        },
        "id": "9F0fcd12pi4y",
        "outputId": "d4cb0538-4c02-4af8-bb00-a93dac1c95a2"
      },
      "execution_count": null,
      "outputs": [
        {
          "output_type": "display_data",
          "data": {
            "text/plain": [
              "0"
            ],
            "text/latex": "$\\displaystyle 0$"
          },
          "metadata": {}
        }
      ]
    },
    {
      "cell_type": "markdown",
      "source": [
        "## Velocity Partial / Momentum"
      ],
      "metadata": {
        "id": "4dS5O8AkwFYw"
      }
    },
    {
      "cell_type": "code",
      "source": [
        "dLxdot = diff(L,xdot)\n",
        "dLydot = diff(L,ydot)\n",
        "dLzdot = diff(L,zdot)\n",
        "\n",
        "dLdot = dLxdot + dLydot + dLzdot\n",
        "display(dLdot)"
      ],
      "metadata": {
        "colab": {
          "base_uri": "https://localhost:8080/",
          "height": 74
        },
        "id": "GUv0YINrqUzr",
        "outputId": "fe7143cf-9741-413c-d005-7ef70a7f035e"
      },
      "execution_count": null,
      "outputs": [
        {
          "output_type": "display_data",
          "data": {
            "text/plain": [
              "c*m*Derivative(x(t), t)/sqrt(c**2 - Derivative(x(t), t)**2 - Derivative(y(t), t)**2 - Derivative(z(t), t)**2) + c*m*Derivative(y(t), t)/sqrt(c**2 - Derivative(x(t), t)**2 - Derivative(y(t), t)**2 - Derivative(z(t), t)**2) + c*m*Derivative(z(t), t)/sqrt(c**2 - Derivative(x(t), t)**2 - Derivative(y(t), t)**2 - Derivative(z(t), t)**2)"
            ],
            "text/latex": "$\\displaystyle \\frac{c m \\frac{d}{d t} x{\\left(t \\right)}}{\\sqrt{c^{2} - \\left(\\frac{d}{d t} x{\\left(t \\right)}\\right)^{2} - \\left(\\frac{d}{d t} y{\\left(t \\right)}\\right)^{2} - \\left(\\frac{d}{d t} z{\\left(t \\right)}\\right)^{2}}} + \\frac{c m \\frac{d}{d t} y{\\left(t \\right)}}{\\sqrt{c^{2} - \\left(\\frac{d}{d t} x{\\left(t \\right)}\\right)^{2} - \\left(\\frac{d}{d t} y{\\left(t \\right)}\\right)^{2} - \\left(\\frac{d}{d t} z{\\left(t \\right)}\\right)^{2}}} + \\frac{c m \\frac{d}{d t} z{\\left(t \\right)}}{\\sqrt{c^{2} - \\left(\\frac{d}{d t} x{\\left(t \\right)}\\right)^{2} - \\left(\\frac{d}{d t} y{\\left(t \\right)}\\right)^{2} - \\left(\\frac{d}{d t} z{\\left(t \\right)}\\right)^{2}}}$"
          },
          "metadata": {}
        }
      ]
    },
    {
      "cell_type": "markdown",
      "source": [
        "### Substituting for Velocity"
      ],
      "metadata": {
        "id": "P97aaaXuwMmR"
      }
    },
    {
      "cell_type": "code",
      "source": [
        "dldot = dLdot.subs(xdot,vx(t)).subs(ydot,vy(t)).subs(zdot,vz(t))\n",
        "display(dldot)"
      ],
      "metadata": {
        "colab": {
          "base_uri": "https://localhost:8080/",
          "height": 60
        },
        "id": "6IW4dB5csEjb",
        "outputId": "e69948b6-ac15-4022-9ed6-e71f6107b2db"
      },
      "execution_count": null,
      "outputs": [
        {
          "output_type": "display_data",
          "data": {
            "text/plain": [
              "c*m*vx(t)/sqrt(c**2 - vx(t)**2 - vy(t)**2 - vz(t)**2) + c*m*vy(t)/sqrt(c**2 - vx(t)**2 - vy(t)**2 - vz(t)**2) + c*m*vz(t)/sqrt(c**2 - vx(t)**2 - vy(t)**2 - vz(t)**2)"
            ],
            "text/latex": "$\\displaystyle \\frac{c m \\operatorname{vx}{\\left(t \\right)}}{\\sqrt{c^{2} - \\operatorname{vx}^{2}{\\left(t \\right)} - \\operatorname{vy}^{2}{\\left(t \\right)} - \\operatorname{vz}^{2}{\\left(t \\right)}}} + \\frac{c m \\operatorname{vy}{\\left(t \\right)}}{\\sqrt{c^{2} - \\operatorname{vx}^{2}{\\left(t \\right)} - \\operatorname{vy}^{2}{\\left(t \\right)} - \\operatorname{vz}^{2}{\\left(t \\right)}}} + \\frac{c m \\operatorname{vz}{\\left(t \\right)}}{\\sqrt{c^{2} - \\operatorname{vx}^{2}{\\left(t \\right)} - \\operatorname{vy}^{2}{\\left(t \\right)} - \\operatorname{vz}^{2}{\\left(t \\right)}}}$"
          },
          "metadata": {}
        }
      ]
    },
    {
      "cell_type": "markdown",
      "source": [
        "##Time Derivative of Velocity Partial\n",
        "\n",
        "Having trouble determing what to differnatiate by, either by xdot, ydot, and zdot or by t"
      ],
      "metadata": {
        "id": "1q3tX2OvwrEl"
      }
    },
    {
      "cell_type": "code",
      "source": [
        "Dt_dLxdot = diff(dLxdot,t)\n",
        "Dt_dLydot = diff(dLydot,t)\n",
        "Dt_dLzdot = diff(dLzdot,t)\n",
        "Dt_dLdot = Dt_dLxdot + Dt_dLydot + Dt_dLzdot\n",
        "\n",
        "display(Dt_dLdot)"
      ],
      "metadata": {
        "colab": {
          "base_uri": "https://localhost:8080/",
          "height": 219
        },
        "id": "Zctuozacwyv0",
        "outputId": "fa577752-55d8-4368-d2b9-97359c330091"
      },
      "execution_count": null,
      "outputs": [
        {
          "output_type": "display_data",
          "data": {
            "text/plain": [
              "c*m*(Derivative(x(t), t)*Derivative(x(t), (t, 2)) + Derivative(y(t), t)*Derivative(y(t), (t, 2)) + Derivative(z(t), t)*Derivative(z(t), (t, 2)))*Derivative(x(t), t)/(c**2 - Derivative(x(t), t)**2 - Derivative(y(t), t)**2 - Derivative(z(t), t)**2)**(3/2) + c*m*(Derivative(x(t), t)*Derivative(x(t), (t, 2)) + Derivative(y(t), t)*Derivative(y(t), (t, 2)) + Derivative(z(t), t)*Derivative(z(t), (t, 2)))*Derivative(y(t), t)/(c**2 - Derivative(x(t), t)**2 - Derivative(y(t), t)**2 - Derivative(z(t), t)**2)**(3/2) + c*m*(Derivative(x(t), t)*Derivative(x(t), (t, 2)) + Derivative(y(t), t)*Derivative(y(t), (t, 2)) + Derivative(z(t), t)*Derivative(z(t), (t, 2)))*Derivative(z(t), t)/(c**2 - Derivative(x(t), t)**2 - Derivative(y(t), t)**2 - Derivative(z(t), t)**2)**(3/2) + c*m*Derivative(x(t), (t, 2))/sqrt(c**2 - Derivative(x(t), t)**2 - Derivative(y(t), t)**2 - Derivative(z(t), t)**2) + c*m*Derivative(y(t), (t, 2))/sqrt(c**2 - Derivative(x(t), t)**2 - Derivative(y(t), t)**2 - Derivative(z(t), t)**2) + c*m*Derivative(z(t), (t, 2))/sqrt(c**2 - Derivative(x(t), t)**2 - Derivative(y(t), t)**2 - Derivative(z(t), t)**2)"
            ],
            "text/latex": "$\\displaystyle \\frac{c m \\left(\\frac{d}{d t} x{\\left(t \\right)} \\frac{d^{2}}{d t^{2}} x{\\left(t \\right)} + \\frac{d}{d t} y{\\left(t \\right)} \\frac{d^{2}}{d t^{2}} y{\\left(t \\right)} + \\frac{d}{d t} z{\\left(t \\right)} \\frac{d^{2}}{d t^{2}} z{\\left(t \\right)}\\right) \\frac{d}{d t} x{\\left(t \\right)}}{\\left(c^{2} - \\left(\\frac{d}{d t} x{\\left(t \\right)}\\right)^{2} - \\left(\\frac{d}{d t} y{\\left(t \\right)}\\right)^{2} - \\left(\\frac{d}{d t} z{\\left(t \\right)}\\right)^{2}\\right)^{\\frac{3}{2}}} + \\frac{c m \\left(\\frac{d}{d t} x{\\left(t \\right)} \\frac{d^{2}}{d t^{2}} x{\\left(t \\right)} + \\frac{d}{d t} y{\\left(t \\right)} \\frac{d^{2}}{d t^{2}} y{\\left(t \\right)} + \\frac{d}{d t} z{\\left(t \\right)} \\frac{d^{2}}{d t^{2}} z{\\left(t \\right)}\\right) \\frac{d}{d t} y{\\left(t \\right)}}{\\left(c^{2} - \\left(\\frac{d}{d t} x{\\left(t \\right)}\\right)^{2} - \\left(\\frac{d}{d t} y{\\left(t \\right)}\\right)^{2} - \\left(\\frac{d}{d t} z{\\left(t \\right)}\\right)^{2}\\right)^{\\frac{3}{2}}} + \\frac{c m \\left(\\frac{d}{d t} x{\\left(t \\right)} \\frac{d^{2}}{d t^{2}} x{\\left(t \\right)} + \\frac{d}{d t} y{\\left(t \\right)} \\frac{d^{2}}{d t^{2}} y{\\left(t \\right)} + \\frac{d}{d t} z{\\left(t \\right)} \\frac{d^{2}}{d t^{2}} z{\\left(t \\right)}\\right) \\frac{d}{d t} z{\\left(t \\right)}}{\\left(c^{2} - \\left(\\frac{d}{d t} x{\\left(t \\right)}\\right)^{2} - \\left(\\frac{d}{d t} y{\\left(t \\right)}\\right)^{2} - \\left(\\frac{d}{d t} z{\\left(t \\right)}\\right)^{2}\\right)^{\\frac{3}{2}}} + \\frac{c m \\frac{d^{2}}{d t^{2}} x{\\left(t \\right)}}{\\sqrt{c^{2} - \\left(\\frac{d}{d t} x{\\left(t \\right)}\\right)^{2} - \\left(\\frac{d}{d t} y{\\left(t \\right)}\\right)^{2} - \\left(\\frac{d}{d t} z{\\left(t \\right)}\\right)^{2}}} + \\frac{c m \\frac{d^{2}}{d t^{2}} y{\\left(t \\right)}}{\\sqrt{c^{2} - \\left(\\frac{d}{d t} x{\\left(t \\right)}\\right)^{2} - \\left(\\frac{d}{d t} y{\\left(t \\right)}\\right)^{2} - \\left(\\frac{d}{d t} z{\\left(t \\right)}\\right)^{2}}} + \\frac{c m \\frac{d^{2}}{d t^{2}} z{\\left(t \\right)}}{\\sqrt{c^{2} - \\left(\\frac{d}{d t} x{\\left(t \\right)}\\right)^{2} - \\left(\\frac{d}{d t} y{\\left(t \\right)}\\right)^{2} - \\left(\\frac{d}{d t} z{\\left(t \\right)}\\right)^{2}}}$"
          },
          "metadata": {}
        }
      ]
    },
    {
      "cell_type": "markdown",
      "source": [
        "###Substituting for Velocity and Acceleration"
      ],
      "metadata": {
        "id": "9Ed7wsWRy0wF"
      }
    },
    {
      "cell_type": "code",
      "source": [
        "Dt_dldot = Dt_dLdot.subs(xdotdot,ax(t)).subs(ydotdot,ay(t)).subs(zdotdot,az(t)).subs(xdot,vx(t)).subs(ydot,vy(t)).subs(zdot,vz(t))\n",
        "display(Dt_dldot)"
      ],
      "metadata": {
        "colab": {
          "base_uri": "https://localhost:8080/",
          "height": 150
        },
        "id": "iEwn8PA6xkET",
        "outputId": "0be79683-8617-4f22-c08c-aa9b4326ea76"
      },
      "execution_count": null,
      "outputs": [
        {
          "output_type": "display_data",
          "data": {
            "text/plain": [
              "c*m*(ax(t)*vx(t) + ay(t)*vy(t) + az(t)*vz(t))*vx(t)/(c**2 - vx(t)**2 - vy(t)**2 - vz(t)**2)**(3/2) + c*m*(ax(t)*vx(t) + ay(t)*vy(t) + az(t)*vz(t))*vy(t)/(c**2 - vx(t)**2 - vy(t)**2 - vz(t)**2)**(3/2) + c*m*(ax(t)*vx(t) + ay(t)*vy(t) + az(t)*vz(t))*vz(t)/(c**2 - vx(t)**2 - vy(t)**2 - vz(t)**2)**(3/2) + c*m*ax(t)/sqrt(c**2 - vx(t)**2 - vy(t)**2 - vz(t)**2) + c*m*ay(t)/sqrt(c**2 - vx(t)**2 - vy(t)**2 - vz(t)**2) + c*m*az(t)/sqrt(c**2 - vx(t)**2 - vy(t)**2 - vz(t)**2)"
            ],
            "text/latex": "$\\displaystyle \\frac{c m \\left(\\operatorname{ax}{\\left(t \\right)} \\operatorname{vx}{\\left(t \\right)} + \\operatorname{ay}{\\left(t \\right)} \\operatorname{vy}{\\left(t \\right)} + \\operatorname{az}{\\left(t \\right)} \\operatorname{vz}{\\left(t \\right)}\\right) \\operatorname{vx}{\\left(t \\right)}}{\\left(c^{2} - \\operatorname{vx}^{2}{\\left(t \\right)} - \\operatorname{vy}^{2}{\\left(t \\right)} - \\operatorname{vz}^{2}{\\left(t \\right)}\\right)^{\\frac{3}{2}}} + \\frac{c m \\left(\\operatorname{ax}{\\left(t \\right)} \\operatorname{vx}{\\left(t \\right)} + \\operatorname{ay}{\\left(t \\right)} \\operatorname{vy}{\\left(t \\right)} + \\operatorname{az}{\\left(t \\right)} \\operatorname{vz}{\\left(t \\right)}\\right) \\operatorname{vy}{\\left(t \\right)}}{\\left(c^{2} - \\operatorname{vx}^{2}{\\left(t \\right)} - \\operatorname{vy}^{2}{\\left(t \\right)} - \\operatorname{vz}^{2}{\\left(t \\right)}\\right)^{\\frac{3}{2}}} + \\frac{c m \\left(\\operatorname{ax}{\\left(t \\right)} \\operatorname{vx}{\\left(t \\right)} + \\operatorname{ay}{\\left(t \\right)} \\operatorname{vy}{\\left(t \\right)} + \\operatorname{az}{\\left(t \\right)} \\operatorname{vz}{\\left(t \\right)}\\right) \\operatorname{vz}{\\left(t \\right)}}{\\left(c^{2} - \\operatorname{vx}^{2}{\\left(t \\right)} - \\operatorname{vy}^{2}{\\left(t \\right)} - \\operatorname{vz}^{2}{\\left(t \\right)}\\right)^{\\frac{3}{2}}} + \\frac{c m \\operatorname{ax}{\\left(t \\right)}}{\\sqrt{c^{2} - \\operatorname{vx}^{2}{\\left(t \\right)} - \\operatorname{vy}^{2}{\\left(t \\right)} - \\operatorname{vz}^{2}{\\left(t \\right)}}} + \\frac{c m \\operatorname{ay}{\\left(t \\right)}}{\\sqrt{c^{2} - \\operatorname{vx}^{2}{\\left(t \\right)} - \\operatorname{vy}^{2}{\\left(t \\right)} - \\operatorname{vz}^{2}{\\left(t \\right)}}} + \\frac{c m \\operatorname{az}{\\left(t \\right)}}{\\sqrt{c^{2} - \\operatorname{vx}^{2}{\\left(t \\right)} - \\operatorname{vy}^{2}{\\left(t \\right)} - \\operatorname{vz}^{2}{\\left(t \\right)}}}$"
          },
          "metadata": {}
        }
      ]
    },
    {
      "cell_type": "markdown",
      "source": [
        "###Simplyfied"
      ],
      "metadata": {
        "id": "9Jca8BCy1JmI"
      }
    },
    {
      "cell_type": "code",
      "source": [
        "Dt_dldot = simplify(Dt_dldot)\n",
        "display(Dt_dldot)"
      ],
      "metadata": {
        "colab": {
          "base_uri": "https://localhost:8080/",
          "height": 65
        },
        "id": "1P7U4RJG0WtE",
        "outputId": "37b8663f-c127-4d2a-b9d0-85c78ee1c54f"
      },
      "execution_count": null,
      "outputs": [
        {
          "output_type": "display_data",
          "data": {
            "text/plain": [
              "c*m*((ax(t)*vx(t) + ay(t)*vy(t) + az(t)*vz(t))*(vx(t) + vy(t) + vz(t)) + (ax(t) + ay(t) + az(t))*(c**2 - vx(t)**2 - vy(t)**2 - vz(t)**2))/(c**2 - vx(t)**2 - vy(t)**2 - vz(t)**2)**(3/2)"
            ],
            "text/latex": "$\\displaystyle \\frac{c m \\left(\\left(\\operatorname{ax}{\\left(t \\right)} \\operatorname{vx}{\\left(t \\right)} + \\operatorname{ay}{\\left(t \\right)} \\operatorname{vy}{\\left(t \\right)} + \\operatorname{az}{\\left(t \\right)} \\operatorname{vz}{\\left(t \\right)}\\right) \\left(\\operatorname{vx}{\\left(t \\right)} + \\operatorname{vy}{\\left(t \\right)} + \\operatorname{vz}{\\left(t \\right)}\\right) + \\left(\\operatorname{ax}{\\left(t \\right)} + \\operatorname{ay}{\\left(t \\right)} + \\operatorname{az}{\\left(t \\right)}\\right) \\left(c^{2} - \\operatorname{vx}^{2}{\\left(t \\right)} - \\operatorname{vy}^{2}{\\left(t \\right)} - \\operatorname{vz}^{2}{\\left(t \\right)}\\right)\\right)}{\\left(c^{2} - \\operatorname{vx}^{2}{\\left(t \\right)} - \\operatorname{vy}^{2}{\\left(t \\right)} - \\operatorname{vz}^{2}{\\left(t \\right)}\\right)^{\\frac{3}{2}}}$"
          },
          "metadata": {}
        }
      ]
    },
    {
      "cell_type": "code",
      "source": [
        "v_2 = vx(t)**2 + vy(t)**2 + vz(t)**2\n",
        "a_2 = ax(t)**2 + ay(t)**2 + az(t)**2\n",
        "\n",
        "Dt_dldot_r = Dt_dldot.subs(v_2,v(t)**2).subs(a_2,a(t)**2)\n",
        "display(simplify(Dt_dldot_r))"
      ],
      "metadata": {
        "colab": {
          "base_uri": "https://localhost:8080/",
          "height": 65
        },
        "id": "4E_azoLh1owA",
        "outputId": "13241258-031b-41a6-8672-d3f68dab198d"
      },
      "execution_count": null,
      "outputs": [
        {
          "output_type": "display_data",
          "data": {
            "text/plain": [
              "c*m*((c**2 - v(t)**2)*(ax(t) + ay(t) + az(t)) + (ax(t)*vx(t) + ay(t)*vy(t) + az(t)*vz(t))*(vx(t) + vy(t) + vz(t)))/(c**2 - v(t)**2)**(3/2)"
            ],
            "text/latex": "$\\displaystyle \\frac{c m \\left(\\left(c^{2} - v^{2}{\\left(t \\right)}\\right) \\left(\\operatorname{ax}{\\left(t \\right)} + \\operatorname{ay}{\\left(t \\right)} + \\operatorname{az}{\\left(t \\right)}\\right) + \\left(\\operatorname{ax}{\\left(t \\right)} \\operatorname{vx}{\\left(t \\right)} + \\operatorname{ay}{\\left(t \\right)} \\operatorname{vy}{\\left(t \\right)} + \\operatorname{az}{\\left(t \\right)} \\operatorname{vz}{\\left(t \\right)}\\right) \\left(\\operatorname{vx}{\\left(t \\right)} + \\operatorname{vy}{\\left(t \\right)} + \\operatorname{vz}{\\left(t \\right)}\\right)\\right)}{\\left(c^{2} - v^{2}{\\left(t \\right)}\\right)^{\\frac{3}{2}}}$"
          },
          "metadata": {}
        }
      ]
    },
    {
      "cell_type": "markdown",
      "source": [
        "##Lagrangian Solution"
      ],
      "metadata": {
        "id": "ZR0X3QP00JtB"
      }
    },
    {
      "cell_type": "code",
      "source": [
        "Eq(dL, simplify(Dt_dLdot))"
      ],
      "metadata": {
        "colab": {
          "base_uri": "https://localhost:8080/",
          "height": 109
        },
        "id": "Z-onO3EW0U0i",
        "outputId": "d5f6cafe-80de-4a9f-ebcf-db2f65ffe3e9"
      },
      "execution_count": null,
      "outputs": [
        {
          "output_type": "execute_result",
          "data": {
            "text/plain": [
              "Eq(0, c*m*((Derivative(x(t), t)*Derivative(x(t), (t, 2)) + Derivative(y(t), t)*Derivative(y(t), (t, 2)) + Derivative(z(t), t)*Derivative(z(t), (t, 2)))*(Derivative(x(t), t) + Derivative(y(t), t) + Derivative(z(t), t)) + (Derivative(x(t), (t, 2)) + Derivative(y(t), (t, 2)) + Derivative(z(t), (t, 2)))*(c**2 - Derivative(x(t), t)**2 - Derivative(y(t), t)**2 - Derivative(z(t), t)**2))/(c**2 - Derivative(x(t), t)**2 - Derivative(y(t), t)**2 - Derivative(z(t), t)**2)**(3/2))"
            ],
            "text/latex": "$\\displaystyle 0 = \\frac{c m \\left(\\left(\\frac{d}{d t} x{\\left(t \\right)} \\frac{d^{2}}{d t^{2}} x{\\left(t \\right)} + \\frac{d}{d t} y{\\left(t \\right)} \\frac{d^{2}}{d t^{2}} y{\\left(t \\right)} + \\frac{d}{d t} z{\\left(t \\right)} \\frac{d^{2}}{d t^{2}} z{\\left(t \\right)}\\right) \\left(\\frac{d}{d t} x{\\left(t \\right)} + \\frac{d}{d t} y{\\left(t \\right)} + \\frac{d}{d t} z{\\left(t \\right)}\\right) + \\left(\\frac{d^{2}}{d t^{2}} x{\\left(t \\right)} + \\frac{d^{2}}{d t^{2}} y{\\left(t \\right)} + \\frac{d^{2}}{d t^{2}} z{\\left(t \\right)}\\right) \\left(c^{2} - \\left(\\frac{d}{d t} x{\\left(t \\right)}\\right)^{2} - \\left(\\frac{d}{d t} y{\\left(t \\right)}\\right)^{2} - \\left(\\frac{d}{d t} z{\\left(t \\right)}\\right)^{2}\\right)\\right)}{\\left(c^{2} - \\left(\\frac{d}{d t} x{\\left(t \\right)}\\right)^{2} - \\left(\\frac{d}{d t} y{\\left(t \\right)}\\right)^{2} - \\left(\\frac{d}{d t} z{\\left(t \\right)}\\right)^{2}\\right)^{\\frac{3}{2}}}$"
          },
          "metadata": {},
          "execution_count": 160
        }
      ]
    },
    {
      "cell_type": "code",
      "source": [
        "Eq(dL,Dt_dldot_r)"
      ],
      "metadata": {
        "colab": {
          "base_uri": "https://localhost:8080/",
          "height": 65
        },
        "id": "Da1tkzUg1dku",
        "outputId": "dbbedf14-1572-4c04-f5a1-93a382f9afd8"
      },
      "execution_count": null,
      "outputs": [
        {
          "output_type": "execute_result",
          "data": {
            "text/plain": [
              "Eq(0, c*m*((c**2 - v(t)**2)*(ax(t) + ay(t) + az(t)) + (ax(t)*vx(t) + ay(t)*vy(t) + az(t)*vz(t))*(vx(t) + vy(t) + vz(t)))/(c**2 - v(t)**2)**(3/2))"
            ],
            "text/latex": "$\\displaystyle 0 = \\frac{c m \\left(\\left(c^{2} - v^{2}{\\left(t \\right)}\\right) \\left(\\operatorname{ax}{\\left(t \\right)} + \\operatorname{ay}{\\left(t \\right)} + \\operatorname{az}{\\left(t \\right)}\\right) + \\left(\\operatorname{ax}{\\left(t \\right)} \\operatorname{vx}{\\left(t \\right)} + \\operatorname{ay}{\\left(t \\right)} \\operatorname{vy}{\\left(t \\right)} + \\operatorname{az}{\\left(t \\right)} \\operatorname{vz}{\\left(t \\right)}\\right) \\left(\\operatorname{vx}{\\left(t \\right)} + \\operatorname{vy}{\\left(t \\right)} + \\operatorname{vz}{\\left(t \\right)}\\right)\\right)}{\\left(c^{2} - v^{2}{\\left(t \\right)}\\right)^{\\frac{3}{2}}}$"
          },
          "metadata": {},
          "execution_count": 161
        }
      ]
    },
    {
      "cell_type": "markdown",
      "source": [
        "#Hamiltonian"
      ],
      "metadata": {
        "id": "Jpw4YLBK2ake"
      }
    },
    {
      "cell_type": "markdown",
      "source": [
        "## Redefining Momentum in Lagrangian"
      ],
      "metadata": {
        "id": "hbwf2-bp4YCf"
      }
    },
    {
      "cell_type": "code",
      "source": [
        "p_Lag = L.subs(dLxdot,px(t)).subs(dLydot,py(t)).subs(dLzdot,pz(t))\n",
        "\n",
        "display(p_Lag)"
      ],
      "metadata": {
        "colab": {
          "base_uri": "https://localhost:8080/",
          "height": 69
        },
        "id": "aPzlJJAf2aRq",
        "outputId": "107a1739-de6a-4bff-84a3-fb239e0ce2c2"
      },
      "execution_count": null,
      "outputs": [
        {
          "output_type": "display_data",
          "data": {
            "text/plain": [
              "-c*m*sqrt(c**2 - Derivative(x(t), t)**2 - Derivative(y(t), t)**2 - Derivative(z(t), t)**2)"
            ],
            "text/latex": "$\\displaystyle - c m \\sqrt{c^{2} - \\left(\\frac{d}{d t} x{\\left(t \\right)}\\right)^{2} - \\left(\\frac{d}{d t} y{\\left(t \\right)}\\right)^{2} - \\left(\\frac{d}{d t} z{\\left(t \\right)}\\right)^{2}}$"
          },
          "metadata": {}
        }
      ]
    },
    {
      "cell_type": "markdown",
      "source": [
        "##Momentum-Velocity Sums"
      ],
      "metadata": {
        "id": "NrdOXOxK7kNb"
      }
    },
    {
      "cell_type": "code",
      "source": [
        "pvx = dLxdot*xdot\n",
        "pvy = dLydot*ydot\n",
        "pvz = dLzdot*zdot\n",
        "\n",
        "pv_sum = pvx + pvy + pvz\n",
        "display(pv_sum)\n"
      ],
      "metadata": {
        "colab": {
          "base_uri": "https://localhost:8080/",
          "height": 77
        },
        "id": "wdi9ZDgs7tRS",
        "outputId": "80272e0b-ad61-4cce-ac0e-ac66c7a94db9"
      },
      "execution_count": null,
      "outputs": [
        {
          "output_type": "display_data",
          "data": {
            "text/plain": [
              "c*m*Derivative(x(t), t)**2/sqrt(c**2 - Derivative(x(t), t)**2 - Derivative(y(t), t)**2 - Derivative(z(t), t)**2) + c*m*Derivative(y(t), t)**2/sqrt(c**2 - Derivative(x(t), t)**2 - Derivative(y(t), t)**2 - Derivative(z(t), t)**2) + c*m*Derivative(z(t), t)**2/sqrt(c**2 - Derivative(x(t), t)**2 - Derivative(y(t), t)**2 - Derivative(z(t), t)**2)"
            ],
            "text/latex": "$\\displaystyle \\frac{c m \\left(\\frac{d}{d t} x{\\left(t \\right)}\\right)^{2}}{\\sqrt{c^{2} - \\left(\\frac{d}{d t} x{\\left(t \\right)}\\right)^{2} - \\left(\\frac{d}{d t} y{\\left(t \\right)}\\right)^{2} - \\left(\\frac{d}{d t} z{\\left(t \\right)}\\right)^{2}}} + \\frac{c m \\left(\\frac{d}{d t} y{\\left(t \\right)}\\right)^{2}}{\\sqrt{c^{2} - \\left(\\frac{d}{d t} x{\\left(t \\right)}\\right)^{2} - \\left(\\frac{d}{d t} y{\\left(t \\right)}\\right)^{2} - \\left(\\frac{d}{d t} z{\\left(t \\right)}\\right)^{2}}} + \\frac{c m \\left(\\frac{d}{d t} z{\\left(t \\right)}\\right)^{2}}{\\sqrt{c^{2} - \\left(\\frac{d}{d t} x{\\left(t \\right)}\\right)^{2} - \\left(\\frac{d}{d t} y{\\left(t \\right)}\\right)^{2} - \\left(\\frac{d}{d t} z{\\left(t \\right)}\\right)^{2}}}$"
          },
          "metadata": {}
        }
      ]
    },
    {
      "cell_type": "markdown",
      "source": [
        "### Symplyfied"
      ],
      "metadata": {
        "id": "dZX0WpCIJUCb"
      }
    },
    {
      "cell_type": "code",
      "source": [
        "pv_sum.subs(dLxdot,px(t)).subs(dLydot,py(t)).subs(dLzdot,pz(t)).subs(xdot,vx(t)).subs(ydot,vy(t)).subs(zdot,vz(t))"
      ],
      "metadata": {
        "colab": {
          "base_uri": "https://localhost:8080/",
          "height": 38
        },
        "id": "ZKiKHd07IpV8",
        "outputId": "3da9db13-46b7-442c-b522-533539038f65"
      },
      "execution_count": null,
      "outputs": [
        {
          "output_type": "execute_result",
          "data": {
            "text/plain": [
              "px(t)*vx(t) + py(t)*vy(t) + pz(t)*vz(t)"
            ],
            "text/latex": "$\\displaystyle \\operatorname{px}{\\left(t \\right)} \\operatorname{vx}{\\left(t \\right)} + \\operatorname{py}{\\left(t \\right)} \\operatorname{vy}{\\left(t \\right)} + \\operatorname{pz}{\\left(t \\right)} \\operatorname{vz}{\\left(t \\right)}$"
          },
          "metadata": {},
          "execution_count": 164
        }
      ]
    },
    {
      "cell_type": "markdown",
      "source": [
        "## The Hamiltonian"
      ],
      "metadata": {
        "id": "iD6ikL7D9jm9"
      }
    },
    {
      "cell_type": "code",
      "source": [
        "H = pv_sum - p_Lag\n",
        "display(H)"
      ],
      "metadata": {
        "colab": {
          "base_uri": "https://localhost:8080/",
          "height": 140
        },
        "id": "HSM6Xd_a9Th7",
        "outputId": "37eab4f0-c31c-4b9c-8b90-c8c00ce2ad95"
      },
      "execution_count": null,
      "outputs": [
        {
          "output_type": "display_data",
          "data": {
            "text/plain": [
              "c*m*sqrt(c**2 - Derivative(x(t), t)**2 - Derivative(y(t), t)**2 - Derivative(z(t), t)**2) + c*m*Derivative(x(t), t)**2/sqrt(c**2 - Derivative(x(t), t)**2 - Derivative(y(t), t)**2 - Derivative(z(t), t)**2) + c*m*Derivative(y(t), t)**2/sqrt(c**2 - Derivative(x(t), t)**2 - Derivative(y(t), t)**2 - Derivative(z(t), t)**2) + c*m*Derivative(z(t), t)**2/sqrt(c**2 - Derivative(x(t), t)**2 - Derivative(y(t), t)**2 - Derivative(z(t), t)**2)"
            ],
            "text/latex": "$\\displaystyle c m \\sqrt{c^{2} - \\left(\\frac{d}{d t} x{\\left(t \\right)}\\right)^{2} - \\left(\\frac{d}{d t} y{\\left(t \\right)}\\right)^{2} - \\left(\\frac{d}{d t} z{\\left(t \\right)}\\right)^{2}} + \\frac{c m \\left(\\frac{d}{d t} x{\\left(t \\right)}\\right)^{2}}{\\sqrt{c^{2} - \\left(\\frac{d}{d t} x{\\left(t \\right)}\\right)^{2} - \\left(\\frac{d}{d t} y{\\left(t \\right)}\\right)^{2} - \\left(\\frac{d}{d t} z{\\left(t \\right)}\\right)^{2}}} + \\frac{c m \\left(\\frac{d}{d t} y{\\left(t \\right)}\\right)^{2}}{\\sqrt{c^{2} - \\left(\\frac{d}{d t} x{\\left(t \\right)}\\right)^{2} - \\left(\\frac{d}{d t} y{\\left(t \\right)}\\right)^{2} - \\left(\\frac{d}{d t} z{\\left(t \\right)}\\right)^{2}}} + \\frac{c m \\left(\\frac{d}{d t} z{\\left(t \\right)}\\right)^{2}}{\\sqrt{c^{2} - \\left(\\frac{d}{d t} x{\\left(t \\right)}\\right)^{2} - \\left(\\frac{d}{d t} y{\\left(t \\right)}\\right)^{2} - \\left(\\frac{d}{d t} z{\\left(t \\right)}\\right)^{2}}}$"
          },
          "metadata": {}
        }
      ]
    },
    {
      "cell_type": "markdown",
      "source": [
        "###Substituted Momentum-Velocity"
      ],
      "metadata": {
        "id": "jXLWmbzfKNam"
      }
    },
    {
      "cell_type": "code",
      "source": [
        "h = H.subs(dLxdot,px(t)).subs(dLydot,py(t)).subs(dLzdot,pz(t)).subs(xdot,vx(t)).subs(ydot,vy(t)).subs(zdot,vz(t))\n",
        "display(h)"
      ],
      "metadata": {
        "colab": {
          "base_uri": "https://localhost:8080/",
          "height": 39
        },
        "id": "-xrCtm2N9ijq",
        "outputId": "b7cf265f-ff2a-4859-e563-8e5de4659eb6"
      },
      "execution_count": null,
      "outputs": [
        {
          "output_type": "display_data",
          "data": {
            "text/plain": [
              "c*m*sqrt(c**2 - vx(t)**2 - vy(t)**2 - vz(t)**2) + px(t)*vx(t) + py(t)*vy(t) + pz(t)*vz(t)"
            ],
            "text/latex": "$\\displaystyle c m \\sqrt{c^{2} - \\operatorname{vx}^{2}{\\left(t \\right)} - \\operatorname{vy}^{2}{\\left(t \\right)} - \\operatorname{vz}^{2}{\\left(t \\right)}} + \\operatorname{px}{\\left(t \\right)} \\operatorname{vx}{\\left(t \\right)} + \\operatorname{py}{\\left(t \\right)} \\operatorname{vy}{\\left(t \\right)} + \\operatorname{pz}{\\left(t \\right)} \\operatorname{vz}{\\left(t \\right)}$"
          },
          "metadata": {}
        }
      ]
    },
    {
      "cell_type": "markdown",
      "source": [
        "###Simplyfied"
      ],
      "metadata": {
        "id": "AXhr5rrAKbI9"
      }
    },
    {
      "cell_type": "code",
      "source": [
        "Ham = simplify(H).subs(xdot,vx(t)).subs(ydot,vy(t)).subs(zdot,vz(t))\n",
        "display(Ham)"
      ],
      "metadata": {
        "colab": {
          "base_uri": "https://localhost:8080/",
          "height": 61
        },
        "id": "NwVh6hncJsyx",
        "outputId": "7f94b8d8-2ad2-4449-f541-5dca4e503033"
      },
      "execution_count": null,
      "outputs": [
        {
          "output_type": "display_data",
          "data": {
            "text/plain": [
              "c**3*m/sqrt(c**2 - vx(t)**2 - vy(t)**2 - vz(t)**2)"
            ],
            "text/latex": "$\\displaystyle \\frac{c^{3} m}{\\sqrt{c^{2} - \\operatorname{vx}^{2}{\\left(t \\right)} - \\operatorname{vy}^{2}{\\left(t \\right)} - \\operatorname{vz}^{2}{\\left(t \\right)}}}$"
          },
          "metadata": {}
        }
      ]
    },
    {
      "cell_type": "markdown",
      "source": [
        "##Negative Position Partial / Force"
      ],
      "metadata": {
        "id": "w4kM7oCyM9XJ"
      }
    },
    {
      "cell_type": "code",
      "source": [
        "dhx = -1*diff(h,x(t))\n",
        "dhy = -1*diff(h,y(t))\n",
        "dhz = -1*diff(h,z(t))\n",
        "\n",
        "dh = dhx + dhy + dhz\n",
        "display(dh)"
      ],
      "metadata": {
        "colab": {
          "base_uri": "https://localhost:8080/",
          "height": 38
        },
        "id": "GOXm5a0hLVU1",
        "outputId": "ae31d39e-1ae2-49ae-f7a1-de994e99f520"
      },
      "execution_count": null,
      "outputs": [
        {
          "output_type": "display_data",
          "data": {
            "text/plain": [
              "0"
            ],
            "text/latex": "$\\displaystyle 0$"
          },
          "metadata": {}
        }
      ]
    },
    {
      "cell_type": "markdown",
      "source": [
        "## Momentum Partial / Velocity"
      ],
      "metadata": {
        "id": "9Iu-uD8BNBU_"
      }
    },
    {
      "cell_type": "code",
      "source": [
        "dhpx = diff(h,px(t))\n",
        "dhpy = diff(h,py(t))\n",
        "dhpz = diff(h,pz(t))\n",
        "\n",
        "dhp = dhpx**2 + dhpy**2 + dhpz**2\n",
        "\n",
        "Eq(dhp,v(t)**2)"
      ],
      "metadata": {
        "colab": {
          "base_uri": "https://localhost:8080/",
          "height": 38
        },
        "id": "EXQ9KolYNUv0",
        "outputId": "57dc5038-17fd-4d9e-eba0-2c6dc3f1939c"
      },
      "execution_count": null,
      "outputs": [
        {
          "output_type": "execute_result",
          "data": {
            "text/plain": [
              "Eq(vx(t)**2 + vy(t)**2 + vz(t)**2, v(t)**2)"
            ],
            "text/latex": "$\\displaystyle \\operatorname{vx}^{2}{\\left(t \\right)} + \\operatorname{vy}^{2}{\\left(t \\right)} + \\operatorname{vz}^{2}{\\left(t \\right)} = v^{2}{\\left(t \\right)}$"
          },
          "metadata": {},
          "execution_count": 169
        }
      ]
    }
  ]
}